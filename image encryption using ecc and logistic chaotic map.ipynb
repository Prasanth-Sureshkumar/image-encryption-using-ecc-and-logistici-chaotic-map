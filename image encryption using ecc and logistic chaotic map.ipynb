{
  "cells": [
    {
      "cell_type": "code",
      "execution_count": null,
      "metadata": {
        "colab": {
          "base_uri": "https://localhost:8080/"
        },
        "id": "8cz5uOuZJdID",
        "outputId": "de6ae4c8-30e0-48f3-87da-10ee17ad1d30"
      },
      "outputs": [
        {
          "output_type": "stream",
          "name": "stdout",
          "text": [
            "SHA-512 hash value: 78fbb4e8dec24ba51417b644826d364b5bbc193020a93cb8517ed977f7e4664e8bb1e97ac81e631c82557c0e52937ce3b0311967bd86fcc8e0bdb317e1297553\n"
          ]
        }
      ],
      "source": [
        "import hashlib\n",
        "from PIL import Image\n",
        "\n",
        "# Open the image file\n",
        "image_file = Image.open(\"/content/bwimages.jpg\")\n",
        "\n",
        "# Convert the image to bytes\n",
        "image_bytes = image_file.tobytes()\n",
        "\n",
        "# Generate the hash object using SHA-512 algorithm\n",
        "hash_object = hashlib.sha512()\n",
        "\n",
        "# Update the hash object with the image bytes\n",
        "hash_object.update(image_bytes)\n",
        "\n",
        "# Generate the hash value in hexadecimal format\n",
        "hash_hex = hash_object.hexdigest()\n",
        "\n",
        "# Print the hash value\n",
        "print(\"SHA-512 hash value:\", hash_hex)"
      ]
    },
    {
      "cell_type": "code",
      "execution_count": null,
      "metadata": {
        "id": "eOHaYWrtKLxp"
      },
      "outputs": [],
      "source": [
        "# from google.colab import drive\n",
        "# drive.mount('/content/drive')"
      ]
    },
    {
      "cell_type": "code",
      "execution_count": null,
      "metadata": {
        "colab": {
          "base_uri": "https://localhost:8080/"
        },
        "id": "OLbU-SLeKDTB",
        "outputId": "e27ee3ce-6e9c-4ac8-c0a0-c4a7d06ac850"
      },
      "outputs": [
        {
          "output_type": "execute_result",
          "data": {
            "text/plain": [
              "['78fbb4e8dec24ba51417b644826d364b',\n",
              " '5bbc193020a93cb8517ed977f7e4664e',\n",
              " '8bb1e97ac81e631c82557c0e52937ce3',\n",
              " 'b0311967bd86fcc8e0bdb317e1297553']"
            ]
          },
          "metadata": {},
          "execution_count": 3
        }
      ],
      "source": [
        "#DIVIDING INTO 4 PARTS\n",
        "import textwrap\n",
        "prekeys=textwrap.wrap(hash_hex, 32)\n",
        "prekeys"
      ]
    },
    {
      "cell_type": "code",
      "execution_count": null,
      "metadata": {
        "colab": {
          "base_uri": "https://localhost:8080/"
        },
        "id": "bxuaYhtKKKv4",
        "outputId": "95e1c76f-186e-4976-8a26-4168aa30bc4a"
      },
      "outputs": [
        {
          "output_type": "stream",
          "name": "stdout",
          "text": [
            "160814295289285068105211290932550121035\n",
            "121936410299131899524719145311206139470\n",
            "185686463487271186182376685129000254691\n",
            "234199065083610087103814780686917268819\n"
          ]
        },
        {
          "output_type": "execute_result",
          "data": {
            "text/plain": [
              "[0.4461972313840683,\n",
              " 0.6411861436637232,\n",
              " 0.6151856149954926,\n",
              " 0.7820163472457753]"
            ]
          },
          "metadata": {},
          "execution_count": 4
        }
      ],
      "source": [
        "keys=[]\n",
        "for i in prekeys:\n",
        "  dec_value = int(i, 16)\n",
        "  print(dec_value)\n",
        "  keys.append(dec_value%0.9999)\n",
        "keys"
      ]
    },
    {
      "cell_type": "code",
      "execution_count": null,
      "metadata": {
        "colab": {
          "base_uri": "https://localhost:8080/"
        },
        "id": "Er0pk1dtKMYQ",
        "outputId": "95ab8f38-8eab-4700-b8e0-fd9c13079238"
      },
      "outputs": [
        {
          "output_type": "stream",
          "name": "stdout",
          "text": [
            "Requirement already satisfied: cryptography in /usr/local/lib/python3.10/dist-packages (41.0.5)\n",
            "Requirement already satisfied: cffi>=1.12 in /usr/local/lib/python3.10/dist-packages (from cryptography) (1.16.0)\n",
            "Requirement already satisfied: pycparser in /usr/local/lib/python3.10/dist-packages (from cffi>=1.12->cryptography) (2.21)\n"
          ]
        }
      ],
      "source": [
        "!pip install cryptography"
      ]
    },
    {
      "cell_type": "code",
      "execution_count": null,
      "metadata": {
        "colab": {
          "base_uri": "https://localhost:8080/"
        },
        "id": "tMGfy1PiKQ0R",
        "outputId": "0c97c74c-9819-42e9-a5e5-81a354c1738f"
      },
      "outputs": [
        {
          "output_type": "stream",
          "name": "stdout",
          "text": [
            "b'\\x9c\\x9a\\xd5\\x00\"w_(p\\xd3\\x9b\\xb5\\xe9z4\\xbbk\\x7f\\x96\\x92)8\\xbd\\xd6\\x1f\\xca\\x9d\\x8c\\xcc\\xc7W\\xda'\n",
            "b'\\x9c\\x9a\\xd5\\x00\"w_(p\\xd3\\x9b\\xb5\\xe9z4\\xbbk\\x7f\\x96\\x92)8\\xbd\\xd6\\x1f\\xca\\x9d\\x8c\\xcc\\xc7W\\xda'\n"
          ]
        }
      ],
      "source": [
        "from cryptography.hazmat.primitives.asymmetric import ec\n",
        "from cryptography.hazmat.primitives import hashes\n",
        "from cryptography.hazmat.primitives.kdf.pbkdf2 import PBKDF2HMAC\n",
        "from cryptography.hazmat.primitives import serialization\n",
        "\n",
        "# Key generation\n",
        "private_key_person1 = ec.generate_private_key(ec.SECP256R1())\n",
        "private_key_person2 = ec.generate_private_key(ec.SECP256R1())\n",
        "\n",
        "# Key exchange\n",
        "public_key_person1 = private_key_person1.public_key()\n",
        "public_key_person2 = private_key_person2.public_key()\n",
        "\n",
        "#this is used in encryption\n",
        "shared_secret_person1 = private_key_person1.exchange(ec.ECDH(), public_key_person2)\n",
        "\n",
        "#this is used in decryption\n",
        "shared_secret_person2 = private_key_person2.exchange(ec.ECDH(), public_key_person1)\n",
        "\n",
        "print(shared_secret_person1)\n",
        "print(shared_secret_person2)\n",
        "key_hash1 = hashlib.sha256(shared_secret_person1).digest()\n",
        "key_hash2 = hashlib.sha256(shared_secret_person2).digest()\n"
      ]
    },
    {
      "cell_type": "code",
      "execution_count": null,
      "metadata": {
        "colab": {
          "base_uri": "https://localhost:8080/"
        },
        "id": "k2jOunwGKmlY",
        "outputId": "b3078780-f07a-4a70-a5fb-496dd585cade"
      },
      "outputs": [
        {
          "output_type": "stream",
          "name": "stdout",
          "text": [
            "[b'\\xe2\\x13hF\\x9a\\xedX\\xbd\\x9d\\xef)\\xa3\\xb4d\\x81\\x00\\xc6\\xbb']\n",
            "Original value: 0.4461972313840683\n",
            "Encrypted value: b'\\xe2\\x13hF\\x9a\\xedX\\xbd\\x9d\\xef)\\xa3\\xb4d\\x81\\x00\\xc6\\xbb'\n",
            "[b'\\xe2\\x13hF\\x9a\\xedX\\xbd\\x9d\\xef)\\xa3\\xb4d\\x81\\x00\\xc6\\xbb', b'\\xe2\\x13jF\\x9d\\xedY\\xbc\\x9e\\xe8+\\xa6\\xbac\\x86\\x04\\xcd\\xba']\n",
            "Original value: 0.6411861436637232\n",
            "Encrypted value: b'\\xe2\\x13jF\\x9d\\xedY\\xbc\\x9e\\xe8+\\xa6\\xbac\\x86\\x04\\xcd\\xba'\n",
            "[b'\\xe2\\x13hF\\x9a\\xedX\\xbd\\x9d\\xef)\\xa3\\xb4d\\x81\\x00\\xc6\\xbb', b'\\xe2\\x13jF\\x9d\\xedY\\xbc\\x9e\\xe8+\\xa6\\xbac\\x86\\x04\\xcd\\xba', b'\\xe2\\x13jC\\x99\\xedY\\xbf\\x99\\xed,\\xa9\\xb5e\\x85\\x0f\\xcc\\xbe']\n",
            "Original value: 0.6151856149954926\n",
            "Encrypted value: b'\\xe2\\x13jC\\x99\\xedY\\xbf\\x99\\xed,\\xa9\\xb5e\\x85\\x0f\\xcc\\xbe'\n",
            "[b'\\xe2\\x13hF\\x9a\\xedX\\xbd\\x9d\\xef)\\xa3\\xb4d\\x81\\x00\\xc6\\xbb', b'\\xe2\\x13jF\\x9d\\xedY\\xbc\\x9e\\xe8+\\xa6\\xbac\\x86\\x04\\xcd\\xba', b'\\xe2\\x13jC\\x99\\xedY\\xbf\\x99\\xed,\\xa9\\xb5e\\x85\\x0f\\xcc\\xbe', b'\\xe2\\x13kJ\\x9e\\xecP\\xbc\\x9c\\xe8/\\xa2\\xb8e\\x86\\x01\\xcb\\xbb']\n",
            "Original value: 0.7820163472457753\n",
            "Encrypted value: b'\\xe2\\x13kJ\\x9e\\xecP\\xbc\\x9c\\xe8/\\xa2\\xb8e\\x86\\x01\\xcb\\xbb'\n"
          ]
        }
      ],
      "source": [
        "# Encrypting keys\n",
        "en=[]\n",
        "for i in keys:0\n",
        "  original_value = i\n",
        "  value_bytes = bytes(str(original_value), 'utf-8')\n",
        "  encrypted_value = bytes([value_bytes[i] ^ key_hash1[i % len(key_hash1)] for i in range(len(value_bytes))])\n",
        "  en.append(encrypted_value)\n",
        "  # Decrypt the encrypted value.\n",
        "  00\n",
        "  # decrypted_value_bytes = bytes([encrypted_value[i] ^ key_hash2[i % len(key_hash2)] for i in range(len(encrypted_value))])\n",
        "  # decrypted_value = float(decrypted_value_bytes.decode('utf-8'))\n",
        "  # Output the results\n",
        "  print(en)\n",
        "  # print(encrypted_value)\n",
        "  print(f\"Original value: {original_value}\")\n",
        "  print(f\"Encrypted value: {encrypted_value}\")\n",
        "  # print(f\"decrypted value: {decrypted_value}\")"
      ]
    },
    {
      "cell_type": "code",
      "execution_count": null,
      "metadata": {
        "colab": {
          "base_uri": "https://localhost:8080/"
        },
        "id": "gX0w5HtUK2IX",
        "outputId": "4d7a58ca-79fe-448a-e400-d04c26c78288"
      },
      "outputs": [
        {
          "output_type": "stream",
          "name": "stdout",
          "text": [
            "[326, 17, 68, 217, 297, 121, 306, 90, 262, 217, 298, 119, 305, 95, 272, 193, 321, 39, 140, 323, 31, 116, 301, 107, 290, 141, 323, 29, 107, 290, 142, 324, 26, 99, 278, 176, 329, 8, 35, 128, 314, 63, 205, 311, 75, 233, 275, 184, 326, 19, 75, 232, 276, 183, 326, 17, 67, 216, 299, 114, 299, 114, 299, 113, 298, 117, 303, 102, 282, 166, 330, 2, 12, 50, 171, 330, 4, 18, 72, 226, 285, 156, 329, 6, 26, 98, 276, 182, 327, 16, 63, 204, 312, 72, 225, 287, 153, 328, 10, 40, 143, 324, 25, 95, 272, 194, 320, 40, 143, 324, 25, 93, 268, 203, 313, 68, 218, 297, 122, 308, 85, 253, 237, 267, 205, 311, 74, 231, 277, 179, 328, 11, 45, 157, 329, 5, 23, 87, 258, 227, 284, 161, 330, 3, 15, 61, 201, 315, 60, 199, 316, 55, 184, 326, 19, 74, 231, 277, 178, 328, 11, 44, 153, 328, 9, 39, 138, 322, 35, 128, 314, 64, 207, 309, 79, 242, 258, 225, 286, 153, 329, 9, 36, 131, 316, 55, 185, 325, 21, 83, 248, 247, 250, 243, 257, 228, 282, 165, 330, 2, 12, 49, 169, 330, 3, 15, 58, 193, 321, 38, 135, 319, 44, 154, 329, 8, 35, 127, 313, 69, 219, 296, 125, 311, 74, 230, 279, 175, 329, 7, 29, 108, 292, 137, 321, 38, 137, 321, 39, 139, 322, 34, 124, 310, 79, 241, 261, 219, 295, 128, 314, 64, 206, 309, 79, 242, 259, 224, 289, 146, 326, 20, 78, 239, 264, 212, 304, 98, 276, 181, 327, 15, 60, 197, 318, 48, 166, 330, 2, 12, 49, 169, 330, 3, 16, 63, 204, 312, 71, 225, 287, 152, 328, 11, 45, 156, 329, 6, 28, 104, 285, 157, 329, 5, 24, 92, 266, 208, 308, 84, 252, 240, 262, 216, 298, 116, 301, 106, 289, 146, 326, 20, 78, 239, 265, 211, 305, 94, 269, 199, 316, 56]\n"
          ]
        }
      ],
      "source": [
        "#GENERATING KEYSTREAMS USING LOGISTIC CHAOTIC MAP\n",
        "import numpy as np\n",
        "import cv2\n",
        "image=cv2.imread('/content/bwimages.jpg')\n",
        "flat_image = image.flatten()\n",
        "height,width,c=image.shape\n",
        "\n",
        "def logistic_map(x, r):\n",
        "    \"\"\"\n",
        "    Generate key stream values using the logistic map.\n",
        "    \"\"\"\n",
        "    key_stream = []\n",
        "    for i in range(height):\n",
        "        x = r * x * (1 - x)\n",
        "        key_stream.append(int(np.round(x * height - 1))%height)\n",
        "    return key_stream\n",
        "\n",
        "# Set the initial value and parameters for the logistic map\n",
        "\n",
        "r = 3.99\n",
        "\n",
        "# Generate the key stream using the logistic map\n",
        "key_stream1 = logistic_map(keys[0], r)\n",
        "key_stream2 = logistic_map(keys[1], r)\n",
        "key_stream3 = logistic_map(keys[2], r)\n",
        "key_stream4 = logistic_map(keys[3], r)\n",
        "\n",
        "# Print the first 10 values of the key stream1\n",
        "print(key_stream1)"
      ]
    },
    {
      "cell_type": "code",
      "execution_count": null,
      "metadata": {
        "colab": {
          "base_uri": "https://localhost:8080/"
        },
        "id": "o7AeSmt8vDz_",
        "outputId": "c1c7f11e-3664-4f16-f651-6bdff7d2b02d"
      },
      "outputs": [
        {
          "output_type": "stream",
          "name": "stdout",
          "text": [
            "[326, 17, 68, 217, 297]\n",
            "[304, 99, 277, 178, 328]\n"
          ]
        }
      ],
      "source": [
        "# Print the first 10 values of the key stream1\n",
        "print(key_stream1[:5])\n",
        "# Print the first 10 values of the key stream2\n",
        "print(key_stream2[:5])"
      ]
    },
    {
      "cell_type": "code",
      "execution_count": null,
      "metadata": {
        "id": "ejosv8fkM5b5"
      },
      "outputs": [],
      "source": [
        "from PIL import Image\n",
        "import numpy as np\n",
        "\n",
        "image = Image.open('/content/bwimages.jpg')\n",
        "image_array = np.array(image)\n"
      ]
    },
    {
      "cell_type": "code",
      "execution_count": null,
      "metadata": {
        "id": "z7qlRLPOM_t1"
      },
      "outputs": [],
      "source": [
        "#GENERATING PERMUTATION SEQUENCE\n",
        "\n",
        "key = np.array(key_stream1[:5]) # replace with your float array key\n",
        "num_rows = image_array.shape[0]\n",
        "permutation_indices = np.random.RandomState(seed=key).permutation(num_rows)"
      ]
    },
    {
      "cell_type": "code",
      "execution_count": null,
      "metadata": {
        "id": "BA2QKMf2UKfP"
      },
      "outputs": [],
      "source": [
        "#ROW PERMUTATION\n",
        "\n",
        "permuted_image_array = image_array[permutation_indices, :]"
      ]
    },
    {
      "cell_type": "code",
      "execution_count": null,
      "metadata": {
        "id": "9IslsMflUQBi"
      },
      "outputs": [],
      "source": [
        "permuted_image = Image.fromarray(permuted_image_array)\n",
        "permuted_image.save('1_permuted_image.png')"
      ]
    },
    {
      "cell_type": "code",
      "execution_count": null,
      "metadata": {
        "id": "MXGTODLsUgY0"
      },
      "outputs": [],
      "source": [
        "from PIL import Image\n",
        "import numpy as np\n",
        "\n",
        "image = Image.open('/content/1_permuted_image.png')\n",
        "image_array = np.array(image)"
      ]
    },
    {
      "cell_type": "code",
      "execution_count": null,
      "metadata": {
        "colab": {
          "base_uri": "https://localhost:8080/"
        },
        "id": "jP70hMQiUk7S",
        "outputId": "83112e7c-6afc-4f22-c1f5-c22aa180ff01"
      },
      "outputs": [
        {
          "output_type": "stream",
          "name": "stdout",
          "text": [
            "593\n"
          ]
        }
      ],
      "source": [
        "#GENERATING PERMUTATION SEQUENCE\n",
        "\n",
        "key = np.array(key_stream2[:5]) # replace with your float array key\n",
        "num_cols = image_array.shape[1]\n",
        "print(num_cols)\n",
        "permutation_indices = np.random.RandomState(seed=key).permutation(num_cols)"
      ]
    },
    {
      "cell_type": "code",
      "execution_count": null,
      "metadata": {
        "id": "8MINgPgMlMRx"
      },
      "outputs": [],
      "source": [
        "##COLUMN PERMUTATION\n",
        "\n",
        "permuted_image_array = image_array[:,permutation_indices]"
      ]
    },
    {
      "cell_type": "code",
      "execution_count": null,
      "metadata": {
        "id": "dj74V8TYUpJx"
      },
      "outputs": [],
      "source": [
        "permuted_image = Image.fromarray(permuted_image_array)\n",
        "permuted_image.save('2_col_permuted_image.png')"
      ]
    },
    {
      "cell_type": "code",
      "execution_count": null,
      "metadata": {
        "colab": {
          "base_uri": "https://localhost:8080/"
        },
        "id": "0EgP12IYFANS",
        "outputId": "c80af201-fca3-496f-ca16-45643f24436e"
      },
      "outputs": [
        {
          "output_type": "execute_result",
          "data": {
            "text/plain": [
              "True"
            ]
          },
          "metadata": {},
          "execution_count": 18
        }
      ],
      "source": [
        "#DCT\n",
        "import cv2\n",
        "import numpy as np\n",
        "\n",
        "# Load image\n",
        "img = cv2.imread('2_col_permuted_image.png')\n",
        "\n",
        "# Split image into channels\n",
        "b, g, r = cv2.split(img)\n",
        "\n",
        "# Define DCT function\n",
        "def dct2(block):\n",
        "    return cv2.dct(cv2.dct(block.T).T)\n",
        "\n",
        "\n",
        "\n",
        "# Perform DCT on each channel\n",
        "dct_b = dct2(b.astype(np.float32))\n",
        "dct_g = dct2(g.astype(np.float32))\n",
        "dct_r = dct2(r.astype(np.float32))\n",
        "\n",
        "dct_img = cv2.merge((dct_b,dct_g,dct_r))\n",
        "cv2.imwrite('3_dct_image.png', dct_img)"
      ]
    },
    {
      "cell_type": "code",
      "execution_count": null,
      "metadata": {
        "id": "ljr7WoAbR7v1"
      },
      "outputs": [],
      "source": [
        "#GENERATING SUBSTITUTION BOX\n",
        "\n",
        "import numpy as np\n",
        "from PIL import Image\n",
        "\n",
        "# Load the image data from a file\n",
        "image = np.array(Image.open(\"3_dct_image.png\"))\n",
        "\n",
        "# Calculate the size of the substitution box needed\n",
        "sbox_size = image.shape[0] * image.shape[1] * image.shape[2]\n",
        "\n",
        "# Generate a random substitution box with the required size\n",
        "sbox = np.arange(sbox_size, dtype=np.uint8)\n",
        "np.random.shuffle(sbox)\n",
        "\n",
        "# Reshape the substitution box to match the input image shape\n",
        "sbox = sbox.reshape(image.shape)"
      ]
    },
    {
      "cell_type": "code",
      "execution_count": null,
      "metadata": {
        "id": "DBCRM0kBDc7s"
      },
      "outputs": [],
      "source": [
        "image_array = np.array(sbox)\n",
        "key3 = np.array(key_stream3[:5])\n",
        "num_rows = image_array.shape[0]\n",
        "permutation_indices1 = np.random.RandomState(seed=key3).permutation(num_rows)\n",
        "sbox_row_permuted = image_array[permutation_indices1, :]"
      ]
    },
    {
      "cell_type": "code",
      "execution_count": null,
      "metadata": {
        "id": "mfNm7ReQDdpQ"
      },
      "outputs": [],
      "source": [
        "image_array = sbox_row_permuted\n",
        "key4 = np.array(key_stream4[:5])\n",
        "num_columns = image_array.shape[1]\n",
        "permutation_indices2 = np.random.RandomState(seed=key4).permutation(num_columns)\n",
        "sbox_permuted = image_array[:,permutation_indices2, :]"
      ]
    },
    {
      "cell_type": "code",
      "execution_count": null,
      "metadata": {
        "id": "judrpZp3S0An"
      },
      "outputs": [],
      "source": [
        "#PERFORMING BITWISE XOR\n",
        "imgforps = Image.open(\"/content/3_dct_image.png\")\n",
        "img_array = np.array(imgforps)\n",
        "encrypted_array = np.bitwise_xor(img_array, sbox)\n",
        "encrypted_img = Image.fromarray(encrypted_array)\n",
        "encrypted_img.save(\"4_final_encrypted_img.png\")"
      ]
    },
    {
      "cell_type": "code",
      "execution_count": null,
      "metadata": {
        "colab": {
          "base_uri": "https://localhost:8080/"
        },
        "id": "kQ3FlCmkscDZ",
        "outputId": "92b509b1-68ff-415c-fd69-06e5b3759d62"
      },
      "outputs": [
        {
          "output_type": "stream",
          "name": "stdout",
          "text": [
            "4\n",
            "decrypted value: 0.4461972313840683\n",
            "decrypted value: 0.6411861436637232\n",
            "decrypted value: 0.6151856149954926\n",
            "decrypted value: 0.7820163472457753\n",
            "[0.4461972313840683, 0.6411861436637232, 0.6151856149954926, 0.7820163472457753]\n"
          ]
        }
      ],
      "source": [
        "#DECRYPTING KEYS USING ELLIPTIC CURVE CRYPTOGRAPHY\n",
        "en_len = len(en)\n",
        "dkeys=[]\n",
        "print(en_len)\n",
        "for i in range(en_len):\n",
        "  a=en[i]\n",
        "  decrypted_value_bytes = bytes([a[i] ^ key_hash2[i % len(key_hash2)] for i in range(len(a))])\n",
        "  decrypted_value = float(decrypted_value_bytes.decode('utf-8'))\n",
        "  dkeys.append(decrypted_value)\n",
        "  # Output the results\n",
        "  print(f\"decrypted value: {decrypted_value}\")\n",
        "print(dkeys)"
      ]
    },
    {
      "cell_type": "code",
      "execution_count": null,
      "metadata": {
        "id": "DiB12lpgV1i9"
      },
      "outputs": [],
      "source": [
        "#keystream generation using logistic chaotic map"
      ]
    },
    {
      "cell_type": "code",
      "execution_count": null,
      "metadata": {
        "id": "yn3iHl9cXa-Y"
      },
      "outputs": [],
      "source": [
        "d_image=cv2.imread('/content/4_final_encrypted_img.png')"
      ]
    },
    {
      "cell_type": "code",
      "execution_count": null,
      "metadata": {
        "colab": {
          "base_uri": "https://localhost:8080/"
        },
        "id": "SYeEMdrGXtmM",
        "outputId": "fa548856-4de4-47b7-9208-8fde4acc0295"
      },
      "outputs": [
        {
          "output_type": "stream",
          "name": "stdout",
          "text": [
            "[326, 17, 68, 217, 297, 121, 306, 90, 262, 217]\n"
          ]
        }
      ],
      "source": [
        "d_flat_image = d_image.flatten()\n",
        "d_height,d_width,d_c=d_image.shape\n",
        "\n",
        "def d_logistic_map(x, r):\n",
        "    \"\"\"\n",
        "    Generate key stream values using the logistic map.\n",
        "    \"\"\"\n",
        "    d_key_stream = []\n",
        "    for i in range(d_height):\n",
        "        x = r * x * (1 - x)\n",
        "        d_key_stream.append(int(np.round(x * d_height - 1))%d_height)\n",
        "    return d_key_stream\n",
        "\n",
        "# Set the initial value and parameters for the logistic map\n",
        "\n",
        "r = 3.99\n",
        "\n",
        "# Generate the key stream using the logistic map\n",
        "d_key_stream1 = d_logistic_map(dkeys[0], r)\n",
        "d_key_stream2 = d_logistic_map(dkeys[1], r)\n",
        "d_key_stream3 = d_logistic_map(dkeys[2], r)\n",
        "d_key_stream4 = d_logistic_map(dkeys[3], r)\n",
        "\n",
        "# Print the first 10 values of the key stream\n",
        "print(d_key_stream1[:10])"
      ]
    },
    {
      "cell_type": "code",
      "execution_count": null,
      "metadata": {
        "id": "YNL40CgOjKHr"
      },
      "outputs": [],
      "source": [
        "dkey3 = np.array(d_key_stream3[:5]) # replace with your float array key\n",
        "num_rows1 = sbox_permuted.shape[0]\n",
        "re_permutation_indices3 = np.random.RandomState(seed=dkey3).permutation(num_rows1)"
      ]
    },
    {
      "cell_type": "code",
      "execution_count": null,
      "metadata": {
        "id": "J5Zh1FCMjJys"
      },
      "outputs": [],
      "source": [
        "dkey4 = np.array(d_key_stream4[:5]) # replace with your float array key\n",
        "num_cols1 = sbox_permuted.shape[1]\n",
        "re_permutation_indices4 = np.random.RandomState(seed=dkey4).permutation(num_cols1)"
      ]
    },
    {
      "cell_type": "code",
      "execution_count": null,
      "metadata": {
        "id": "icmQnTmRmSPr"
      },
      "outputs": [],
      "source": [
        "import numpy as np\n",
        "inverse_indices3 = np.argsort(re_permutation_indices3)\n",
        "inverse_indices4 = np.argsort(re_permutation_indices4)"
      ]
    },
    {
      "cell_type": "code",
      "execution_count": null,
      "metadata": {
        "colab": {
          "base_uri": "https://localhost:8080/"
        },
        "id": "w6W0RxzTtF-v",
        "outputId": "38cdc637-36ab-44e1-bca7-bc4d7504dbd5"
      },
      "outputs": [
        {
          "output_type": "stream",
          "name": "stdout",
          "text": [
            "[[[192  26 242]\n",
            "  [184  46 163]\n",
            "  [248  37 170]\n",
            "  ...\n",
            "  [193   1  74]\n",
            "  [251 232 160]\n",
            "  [101  88 161]]\n",
            "\n",
            " [[251 101  35]\n",
            "  [254 176 233]\n",
            "  [206 223  41]\n",
            "  ...\n",
            "  [235 182 114]\n",
            "  [140 200 108]\n",
            "  [245 198 237]]\n",
            "\n",
            " [[196 143 131]\n",
            "  [112 204 192]\n",
            "  [118 199 174]\n",
            "  ...\n",
            "  [249 121 113]\n",
            "  [ 41 238 123]\n",
            "  [226 194 177]]\n",
            "\n",
            " ...\n",
            "\n",
            " [[119  45   5]\n",
            "  [152 104 243]\n",
            "  [217 128  51]\n",
            "  ...\n",
            "  [160  83  21]\n",
            "  [185 112   2]\n",
            "  [ 42 141  29]]\n",
            "\n",
            " [[ 39 129 119]\n",
            "  [249  34 109]\n",
            "  [ 42 209 129]\n",
            "  ...\n",
            "  [142  46 154]\n",
            "  [240 131 183]\n",
            "  [127   1  41]]\n",
            "\n",
            " [[152  97 250]\n",
            "  [230 100  32]\n",
            "  [248 117  23]\n",
            "  ...\n",
            "  [163 241 234]\n",
            "  [249  73 233]\n",
            "  [179  72  68]]]\n"
          ]
        }
      ],
      "source": [
        "sbox_decrept = sbox_permuted[:,inverse_indices4, :]\n",
        "sbox_dpermuted = sbox_decrept[inverse_indices3, :]\n",
        "print(sbox_dpermuted)"
      ]
    },
    {
      "cell_type": "code",
      "execution_count": null,
      "metadata": {
        "id": "LsKyiAvMU86x"
      },
      "outputs": [],
      "source": [
        "#pixel substitution on decrypted image\n",
        "deimgforps = Image.open(\"/content/4_final_encrypted_img.png\")\n",
        "deimg_array = np.array(deimgforps)\n",
        "decrypted_array = np.bitwise_xor(deimg_array, sbox_dpermuted)\n",
        "decrypted_img = Image.fromarray(decrypted_array)\n",
        "decrypted_img.save(\"5_decrypted_image_from_ps.png\")"
      ]
    },
    {
      "cell_type": "code",
      "execution_count": null,
      "metadata": {
        "colab": {
          "base_uri": "https://localhost:8080/"
        },
        "id": "vVbtbjujZ9jF",
        "outputId": "4cbb026f-f432-4900-f2cf-7cfca36898d0"
      },
      "outputs": [
        {
          "output_type": "execute_result",
          "data": {
            "text/plain": [
              "True"
            ]
          },
          "metadata": {},
          "execution_count": 32
        }
      ],
      "source": [
        "#IDCT on decyrpted image grom pixel substitution\n",
        "import cv2\n",
        "import numpy as np\n",
        "\n",
        "# Load image\n",
        "img = cv2.imread('5_decrypted_image_from_ps.png')\n",
        "\n",
        "# Split image into channels\n",
        "b, g, r = cv2.split(img)\n",
        "\n",
        "# Define IDCT function\n",
        "def idct2(block):\n",
        "    return cv2.idct(cv2.idct(block.T).T)\n",
        "\n",
        "idct_b = idct2(dct_b).astype(np.uint8)\n",
        "idct_g = idct2(dct_g).astype(np.uint8)\n",
        "idct_r = idct2(dct_r).astype(np.uint8)\n",
        "\n",
        "idct_img = cv2.merge((idct_b, idct_g, idct_r))\n",
        "cv2.imwrite('6_idct_image.png', idct_img)"
      ]
    },
    {
      "cell_type": "code",
      "execution_count": null,
      "metadata": {
        "colab": {
          "base_uri": "https://localhost:8080/"
        },
        "id": "k6tZlhDG4aoL",
        "outputId": "ff32481f-6e68-47c0-882b-754a699cc478"
      },
      "outputs": [
        {
          "output_type": "stream",
          "name": "stdout",
          "text": [
            "[326, 17, 68, 217, 297, 121, 306, 90, 262, 217]\n",
            "[304, 99, 277, 178, 328, 11, 44, 154, 329, 8]\n"
          ]
        }
      ],
      "source": [
        "# Print the first 10 values of the key stream1 using decrypted value\n",
        "print(d_key_stream1[:10])\n",
        "# Print the first 10 values of the key stream2 using decrypted value\n",
        "print(d_key_stream2[:10])"
      ]
    },
    {
      "cell_type": "code",
      "execution_count": null,
      "metadata": {
        "colab": {
          "base_uri": "https://localhost:8080/"
        },
        "id": "jtxUym6Z4oEl",
        "outputId": "f20728f4-862b-4c44-f696-fddc44a6b7c3"
      },
      "outputs": [
        {
          "output_type": "stream",
          "name": "stdout",
          "text": [
            "[326, 17, 68, 217, 297, 121, 306, 90, 262, 217, 298, 119, 305, 95, 272, 193, 321, 39, 140, 323, 31, 116, 301, 107, 290, 141, 323, 29, 107, 290, 142, 324, 26, 99, 278, 176, 329, 8, 35, 128, 314, 63, 205, 311, 75, 233, 275, 184, 326, 19, 75, 232, 276, 183, 326, 17, 67, 216, 299, 114, 299, 114, 299, 113, 298, 117, 303, 102, 282, 166, 330, 2, 12, 50, 171, 330, 4, 18, 72, 226, 285, 156, 329, 6, 26, 98, 276, 182, 327, 16, 63, 204, 312, 72, 225, 287, 153, 328, 10, 40, 143, 324, 25, 95, 272, 194, 320, 40, 143, 324, 25, 93, 268, 203, 313, 68, 218, 297, 122, 308, 85, 253, 237, 267, 205, 311, 74, 231, 277, 179, 328, 11, 45, 157, 329, 5, 23, 87, 258, 227, 284, 161, 330, 3, 15, 61, 201, 315, 60, 199, 316, 55, 184, 326, 19, 74, 231, 277, 178, 328, 11, 44, 153, 328, 9, 39, 138, 322, 35, 128, 314, 64, 207, 309, 79, 242, 258, 225, 286, 153, 329, 9, 36, 131, 316, 55, 185, 325, 21, 83, 248, 247, 250, 243, 257, 228, 282, 165, 330, 2, 12, 49, 169, 330, 3, 15, 58, 193, 321, 38, 135, 319, 44, 154, 329, 8, 35, 127, 313, 69, 219, 296, 125, 311, 74, 230, 279, 175, 329, 7, 29, 108, 292, 137, 321, 38, 137, 321, 39, 139, 322, 34, 124, 310, 79, 241, 261, 219, 295, 128, 314, 64, 206, 309, 79, 242, 259, 224, 289, 146, 326, 20, 78, 239, 264, 212, 304, 98, 276, 181, 327, 15, 60, 197, 318, 48, 166, 330, 2, 12, 49, 169, 330, 3, 16, 63, 204, 312, 71, 225, 287, 152, 328, 11, 45, 156, 329, 6, 28, 104, 285, 157, 329, 5, 24, 92, 266, 208, 308, 84, 252, 240, 262, 216, 298, 116, 301, 106, 289, 146, 326, 20, 78, 239, 265, 211, 305, 94, 269, 199, 316, 56]\n"
          ]
        }
      ],
      "source": [
        "# Print all the values of the key stream\n",
        "print(d_key_stream1)"
      ]
    },
    {
      "cell_type": "code",
      "execution_count": null,
      "metadata": {
        "id": "Xo5FQeNmdMoZ"
      },
      "outputs": [],
      "source": [
        "#reversing column permutation on image got from IDCT\n"
      ]
    },
    {
      "cell_type": "code",
      "execution_count": null,
      "metadata": {
        "id": "v6N-P_1tYz0R"
      },
      "outputs": [],
      "source": [
        "dp_image = Image.open('/content/6_idct_image.png')\n",
        "dp_image_array = np.array(dp_image)"
      ]
    },
    {
      "cell_type": "code",
      "execution_count": null,
      "metadata": {
        "id": "ibNSTmJ4bqnC"
      },
      "outputs": [],
      "source": [
        "dkey = np.array(d_key_stream2[:5]) # replace with your float array key\n",
        "num_cols1 = dp_image_array.shape[1]\n",
        "re_permutation_indices = np.random.RandomState(seed=dkey).permutation(num_cols1)"
      ]
    },
    {
      "cell_type": "code",
      "execution_count": null,
      "metadata": {
        "id": "XA9eVCHScqUt"
      },
      "outputs": [],
      "source": [
        "inverse_indices = np.argsort(re_permutation_indices)"
      ]
    },
    {
      "cell_type": "code",
      "execution_count": null,
      "metadata": {
        "id": "sADoV-Ezc4cQ"
      },
      "outputs": [],
      "source": [
        "re_permuted_image_array = dp_image_array[:,inverse_indices, :]"
      ]
    },
    {
      "cell_type": "code",
      "execution_count": null,
      "metadata": {
        "id": "-nFxHTnkc_oQ"
      },
      "outputs": [],
      "source": [
        "re_permuted_image = Image.fromarray(re_permuted_image_array)\n",
        "re_permuted_image.save('7_reverse_col_permuted_image.png')"
      ]
    },
    {
      "cell_type": "code",
      "execution_count": null,
      "metadata": {
        "id": "bevlxNrFdHEU"
      },
      "outputs": [],
      "source": [
        "#reversing row permutation"
      ]
    },
    {
      "cell_type": "code",
      "execution_count": null,
      "metadata": {
        "id": "i6CLY9SRdW-i"
      },
      "outputs": [],
      "source": [
        "dp_image = Image.open('/content/7_reverse_col_permuted_image.png')\n",
        "dp_image_array = np.array(dp_image)"
      ]
    },
    {
      "cell_type": "code",
      "execution_count": null,
      "metadata": {
        "id": "vQix2TVxdgIv"
      },
      "outputs": [],
      "source": [
        "dkey1 = np.array(d_key_stream1[:5]) # replace with your float array key\n",
        "num_rows1 = dp_image_array.shape[0]\n",
        "re_permutation_indices = np.random.RandomState(seed=dkey1).permutation(num_rows1)"
      ]
    },
    {
      "cell_type": "code",
      "execution_count": null,
      "metadata": {
        "id": "Ft_6kRUvd219"
      },
      "outputs": [],
      "source": [
        "inverse_indices = np.argsort(re_permutation_indices)"
      ]
    },
    {
      "cell_type": "code",
      "execution_count": null,
      "metadata": {
        "id": "tjwPxDScd6uj"
      },
      "outputs": [],
      "source": [
        "re_permuted_image_array = dp_image_array[inverse_indices, :]"
      ]
    },
    {
      "cell_type": "code",
      "execution_count": null,
      "metadata": {
        "id": "g6Kd1Wk5eDHa"
      },
      "outputs": [],
      "source": [
        "re_permuted_image = Image.fromarray(re_permuted_image_array)\n",
        "re_permuted_image.save('8_final_decrypted_image.png')"
      ]
    },
    {
      "cell_type": "code",
      "execution_count": null,
      "metadata": {
        "id": "nx7aNVt7digi"
      },
      "outputs": [],
      "source": [
        "import cv2\n",
        "import numpy as np\n",
        "\n",
        "# Load the image\n",
        "image = cv2.imread('/content/4_final_encrypted_img.png')\n",
        "gray_image = cv2.cvtColor(image, cv2.COLOR_BGR2GRAY)\n",
        "\n",
        "def calculate_horizontal_correlation(image):\n",
        "    horizontal_correlations = np.corrcoef(image[:, :-1], image[:, 1:])\n",
        "    return horizontal_correlations\n",
        "\n",
        "def calculate_vertical_correlation(image):\n",
        "    vertical_correlations = np.corrcoef(image[:-1, :], image[1:, :])\n",
        "    return vertical_correlations\n",
        "\n",
        "def calculate_diagonal_correlation(image):\n",
        "    # Calculate the diagonal correlation coefficients\n",
        "    diagonal1_correlations = np.corrcoef(image[:-1, :-1], image[1:, 1:])\n",
        "    diagonal2_correlations = np.corrcoef(image[:-1, 1:], image[1:, :-1])\n",
        "    return diagonal1_correlations, diagonal2_correlations\n",
        "\n",
        "# Calculate correlation coefficients\n",
        "horizontal_correlation = calculate_horizontal_correlation(gray_image)\n",
        "vertical_correlation = calculate_vertical_correlation(gray_image)\n",
        "diagonal1_correlation, diagonal2_correlation = calculate_diagonal_correlation(gray_image)\n"
      ]
    },
    {
      "cell_type": "code",
      "execution_count": null,
      "metadata": {
        "id": "-3xVzQ6fdjJ7"
      },
      "outputs": [],
      "source": [
        "# Assuming you have a correlation coefficients matrix\n",
        "correlation_matrix = vertical_correlation\n",
        "H, W = np.shape(correlation_matrix)\n",
        "\n",
        "# Calculate S = W x H\n",
        "S = W * H\n",
        "\n",
        "# Initialize arrays for M(p) and D(p)\n",
        "M = np.zeros((H, W))\n",
        "D = np.zeros((H, W))\n",
        "\n",
        "# Calculate M(p) and D(p) for each pixel\n",
        "for y in range(H):\n",
        "    for x in range(W):\n",
        "        # Calculate the neighborhood boundaries based on S, you may need to adjust this for your specific needs\n",
        "        y_start = max(0, y - S // 2)\n",
        "        y_end = min(H, y + S // 2)\n",
        "        x_start = max(0, x - S // 2)\n",
        "        x_end = min(W, x + S // 2)\n",
        "\n",
        "        # Calculate M(p) for the current pixel\n",
        "        M[y, x] = np.mean(correlation_matrix[y_start:y_end, x_start:x_end])\n",
        "\n",
        "        # Calculate D(p) for the current pixel\n",
        "        D[y, x] = np.std(correlation_matrix[y_start:y_end, x_start:x_end])\n",
        "\n",
        "# Initialize an array for cov(p1, p2)\n",
        "cov = np.zeros((H, W))\n",
        "\n",
        "# Calculate cov(p1, p2) for each pixel pair\n",
        "for y in range(H):\n",
        "    for x in range(W - 1):\n",
        "        cov[y, x] = (correlation_matrix[y][x] * correlation_matrix[y][x + 1])\n",
        "\n",
        "\n",
        "# Now you have the values of S, M(p), D(p), and cov(p1, p2) for your image\n",
        "# Now you have the values of S, M(p), D(p), and cov(p1, p2) for your image\n"
      ]
    },
    {
      "cell_type": "code",
      "source": [
        "import numpy as np\n",
        "\n",
        "# Assuming you have calculated covariance (cov) and standard deviations (D) for each pixel pair\n",
        "\n",
        "# Calculate CCp1_p2 for each pixel pair\n",
        "CCp1_p2 = cov[:, :-1] / (D[:, :-1] * D[:, 1:])\n",
        "\n",
        "mean_correlation = np.mean(CCp1_p2)\n",
        "print(f\"vertical Correlation: {mean_correlation}\")\n"
      ],
      "metadata": {
        "id": "YssdJbtjlzw8",
        "colab": {
          "base_uri": "https://localhost:8080/"
        },
        "outputId": "94394bfe-23b1-41f3-f51d-c50164d3b1bc"
      },
      "execution_count": null,
      "outputs": [
        {
          "output_type": "stream",
          "name": "stdout",
          "text": [
            "vertical Correlation: 0.0014569953983921949\n"
          ]
        }
      ]
    },
    {
      "cell_type": "code",
      "source": [
        "correlation_matrix = horizontal_correlation\n",
        "H, W = np.shape(correlation_matrix)\n",
        "\n",
        "# Calculate S = W x H\n",
        "S = W * H\n",
        "\n",
        "# Initialize arrays for M(p) and D(p)\n",
        "M = np.zeros((H, W))\n",
        "D = np.zeros((H, W))\n",
        "\n",
        "# Calculate M(p) and D(p) for each pixel\n",
        "for y in range(H):\n",
        "    for x in range(W):\n",
        "        # Calculate the neighborhood boundaries based on S, you may need to adjust this for your specific needs\n",
        "        y_start = max(0, y - S // 2)\n",
        "        y_end = min(H, y + S // 2)\n",
        "        x_start = max(0, x - S // 2)\n",
        "        x_end = min(W, x + S // 2)\n",
        "\n",
        "        # Calculate M(p) for the current pixel\n",
        "        M[y, x] = np.mean(correlation_matrix[y_start:y_end, x_start:x_end])\n",
        "\n",
        "        # Calculate D(p) for the current pixel\n",
        "        D[y, x] = np.std(correlation_matrix[y_start:y_end, x_start:x_end])\n",
        "\n",
        "# Initialize an array for cov(p1, p2)\n",
        "cov = np.zeros((H, W))\n",
        "\n",
        "# Calculate cov(p1, p2) for each pixel pair\n",
        "for y in range(H):\n",
        "    for x in range(W - 1):\n",
        "        cov[y, x] = (correlation_matrix[y][x] * correlation_matrix[y][x + 1])\n"
      ],
      "metadata": {
        "id": "bj9CoU7Hlrcx"
      },
      "execution_count": null,
      "outputs": []
    },
    {
      "cell_type": "code",
      "source": [
        "import numpy as np\n",
        "\n",
        "# Assuming you have calculated covariance (cov) and standard deviations (D) for each pixel pair\n",
        "\n",
        "# Calculate CCp1_p2 for each pixel pair\n",
        "CCp1_p2 = cov[:, :-1] / (D[:, :-1] * D[:, 1:])\n",
        "\n",
        "mean_correlation = np.mean(CCp1_p2)\n",
        "print(f\"horizontal Correlation: {mean_correlation}\")"
      ],
      "metadata": {
        "id": "mF2H_9Sel_js",
        "colab": {
          "base_uri": "https://localhost:8080/"
        },
        "outputId": "ceecd29d-0f3c-4288-8fcc-da71787c1d0f"
      },
      "execution_count": null,
      "outputs": [
        {
          "output_type": "stream",
          "name": "stdout",
          "text": [
            "horizontal Correlation: 0.0012062637893653432\n"
          ]
        }
      ]
    },
    {
      "cell_type": "code",
      "source": [
        "correlation_matrix = diagonal1_correlation\n",
        "H, W = np.shape(correlation_matrix)\n",
        "\n",
        "# Calculate S = W x H\n",
        "S = W * H\n",
        "\n",
        "# Initialize arrays for M(p) and D(p)\n",
        "M = np.zeros((H, W))\n",
        "D = np.zeros((H, W))\n",
        "\n",
        "# Calculate M(p) and D(p) for each pixel\n",
        "for y in range(H):\n",
        "    for x in range(W):\n",
        "        # Calculate the neighborhood boundaries based on S, you may need to adjust this for your specific needs\n",
        "        y_start = max(0, y - S // 2)\n",
        "        y_end = min(H, y + S // 2)\n",
        "        x_start = max(0, x - S // 2)\n",
        "        x_end = min(W, x + S // 2)\n",
        "\n",
        "        # Calculate M(p) for the current pixel\n",
        "        M[y, x] = np.mean(correlation_matrix[y_start:y_end, x_start:x_end])\n",
        "\n",
        "        # Calculate D(p) for the current pixel\n",
        "        D[y, x] = np.std(correlation_matrix[y_start:y_end, x_start:x_end])\n",
        "\n",
        "# Initialize an array for cov(p1, p2)\n",
        "cov = np.zeros((H, W))\n",
        "\n",
        "# Calculate cov(p1, p2) for each pixel pair\n",
        "for y in range(H):\n",
        "    for x in range(W - 1):\n",
        "        cov[y, x] = (correlation_matrix[y][x] * correlation_matrix[y][x + 1])\n"
      ],
      "metadata": {
        "id": "N0MXC-BBlr_X"
      },
      "execution_count": null,
      "outputs": []
    },
    {
      "cell_type": "code",
      "execution_count": null,
      "metadata": {
        "id": "mERjAqL_djZz",
        "colab": {
          "base_uri": "https://localhost:8080/"
        },
        "outputId": "d098e368-8946-41e2-b3e1-cd235110da94"
      },
      "outputs": [
        {
          "output_type": "stream",
          "name": "stdout",
          "text": [
            "diagonal Correlation: 0.0016093057864074872\n"
          ]
        }
      ],
      "source": [
        "import numpy as np\n",
        "\n",
        "# Assuming you have calculated covariance (cov) and standard deviations (D) for each pixel pair\n",
        "\n",
        "# Calculate CCp1_p2 for each pixel pair\n",
        "CCp1_p2 = cov[:, :-1] / (D[:, :-1] * D[:, 1:])\n",
        "\n",
        "mean_correlation = np.mean(CCp1_p2)\n",
        "print(f\"diagonal Correlation: {mean_correlation}\")\n"
      ]
    },
    {
      "cell_type": "code",
      "execution_count": null,
      "metadata": {
        "id": "GWABAlYvo7_K",
        "colab": {
          "base_uri": "https://localhost:8080/"
        },
        "outputId": "afee4fc4-8093-49db-9795-2360a0682103"
      },
      "outputs": [
        {
          "output_type": "stream",
          "name": "stdout",
          "text": [
            "Horizontal Correlation between plaintext and cipher images: 0.0017453961325400085\n"
          ]
        }
      ],
      "source": [
        "import cv2\n",
        "import numpy as np\n",
        "import scipy.stats\n",
        "\n",
        "def calculate_correlation(plaintext_image_path, cipher_image_path, direction='vertical'):\n",
        "    # Read the plaintext and cipher images\n",
        "    plaintext_image = cv2.imread(plaintext_image_path)\n",
        "    cipher_image = cv2.imread(cipher_image_path)\n",
        "\n",
        "    # Ensure both images have the same dimensions\n",
        "    if plaintext_image.shape != cipher_image.shape:\n",
        "        raise ValueError(\"Plaintext and cipher images must have the same dimensions.\")\n",
        "\n",
        "    if direction == 'vertical':\n",
        "        correlation = scipy.stats.pearsonr(plaintext_image.flatten(), cipher_image.flatten())[0]\n",
        "    elif direction == 'horizontal':\n",
        "        # Calculate the correlation coefficient for horizontal direction\n",
        "        correlation = scipy.stats.pearsonr(plaintext_image.T.flatten(), cipher_image.T.flatten())[0]\n",
        "    else:\n",
        "        raise ValueError(\"Invalid direction. Use 'vertical', 'horizontal'\")\n",
        "\n",
        "    return correlation\n",
        "\n",
        "if __name__ == \"__main__\":\n",
        "    # Provide the paths to your plaintext and cipher images\n",
        "    plaintext_image_path = '/content/bwimages.jpg'\n",
        "    cipher_image_path = '/content/4_final_encrypted_img.png'\n",
        "\n",
        "    # Calculate the correlation between the plaintext and cipher images for the horizontal direction\n",
        "    correlation = calculate_correlation(plaintext_image_path, cipher_image_path, direction='horizontal')\n",
        "\n",
        "    # Print the correlation coefficient\n",
        "    print(f\"Horizontal Correlation between plaintext and cipher images: {correlation}\")\n"
      ]
    },
    {
      "cell_type": "code",
      "source": [
        "import cv2\n",
        "import numpy as np\n",
        "import scipy.stats\n",
        "\n",
        "def calculate_correlation(plaintext_image_path, cipher_image_path, direction='vertical'):\n",
        "    # Read the plaintext and cipher images\n",
        "    plaintext_image = cv2.imread(plaintext_image_path)\n",
        "    cipher_image = cv2.imread(cipher_image_path)\n",
        "\n",
        "    # Ensure both images have the same dimensions\n",
        "    if plaintext_image.shape != cipher_image.shape:\n",
        "        raise ValueError(\"Plaintext and cipher images must have the same dimensions.\")\n",
        "\n",
        "    if direction == 'vertical':\n",
        "        correlation = scipy.stats.pearsonr(plaintext_image.flatten(), cipher_image.flatten())[0]\n",
        "    elif direction == 'horizontal':\n",
        "        # Calculate the correlation coefficient for horizontal direction\n",
        "        correlation = scipy.stats.pearsonr(plaintext_image.T.flatten(), cipher_image.T.flatten())[0]\n",
        "    else:\n",
        "        raise ValueError(\"Invalid direction. Use 'vertical', 'horizontal'\")\n",
        "\n",
        "    return correlation\n",
        "\n",
        "if __name__ == \"__main__\":\n",
        "    # Provide the paths to your plaintext and cipher images\n",
        "    plaintext_image_path = '/content/bwimages.jpg'\n",
        "    cipher_image_path = '/content/4_final_encrypted_img.png'\n",
        "\n",
        "    # Calculate the correlation between the plaintext and cipher images for the horizontal direction\n",
        "    correlation = calculate_correlation(plaintext_image_path, cipher_image_path, direction='vertical')\n",
        "\n",
        "    # Print the correlation coefficient\n",
        "    print(f\"vertical Correlation between plaintext and cipher images: {correlation}\")\n"
      ],
      "metadata": {
        "id": "IgkglDBvttNB",
        "colab": {
          "base_uri": "https://localhost:8080/"
        },
        "outputId": "00a20f4b-f2af-4216-f9be-aa621849f449"
      },
      "execution_count": null,
      "outputs": [
        {
          "output_type": "stream",
          "name": "stdout",
          "text": [
            "vertical Correlation between plaintext and cipher images: 0.0017453961325400028\n"
          ]
        }
      ]
    },
    {
      "cell_type": "code",
      "source": [
        "import cv2\n",
        "import numpy as np\n",
        "\n",
        "def calculate_vertical_correlation(plaintext_image, cipher_image):\n",
        "    # Ensure both images have the same dimensions\n",
        "    if plaintext_image.shape != cipher_image.shape:\n",
        "        raise ValueError(\"Plaintext and cipher images must have the same dimensions.\")\n",
        "\n",
        "    # Calculate the column-wise variance for plaintext and cipher images for each color channel\n",
        "    variances_plaintext = [np.var(plaintext_image[:, :, i]) for i in range(plaintext_image.shape[2])]\n",
        "    variances_cipher = [np.var(cipher_image[:, :, i]) for i in range(cipher_image.shape[2])]\n",
        "\n",
        "    # Compute the means of the entire images for each color channel\n",
        "    means_plaintext = [np.mean(plaintext_image[:, :, i]) for i in range(plaintext_image.shape[2])]\n",
        "    means_cipher = [np.mean(cipher_image[:, :, i]) for i in range(cipher_image.shape[2])]\n",
        "\n",
        "    # Calculate the vertical covariance and correlation for each color channel\n",
        "    correlations = []\n",
        "    for i in range(plaintext_image.shape[2]):\n",
        "        covariance = np.sum((plaintext_image[:, :, i] - means_plaintext[i]) * (cipher_image[:, :, i] - means_cipher[i])) / (plaintext_image[:, :, i].size)\n",
        "        correlation = covariance / np.sqrt(variances_plaintext[i] * variances_cipher[i])\n",
        "        correlations.append(correlation)\n",
        "\n",
        "    # Calculate the mean of the correlations across all color channels\n",
        "    mean_correlation = np.mean(correlations)\n",
        "\n",
        "    return mean_correlation\n",
        "\n",
        "if __name__ == \"__main__\":\n",
        "    # Load plaintext and cipher images using OpenCV\n",
        "    plaintext_image = cv2.imread('/content/bwimages.jpg')\n",
        "    cipher_image = cv2.imread('/content/4_final_encrypted_img.png')\n",
        "\n",
        "    # Calculate the mean of the vertical correlation coefficients for all color channels\n",
        "    mean_vertical_correlation = calculate_vertical_correlation(plaintext_image, cipher_image)\n",
        "\n",
        "    # Print the mean vertical correlation coefficient\n",
        "    print(f\"Mean Vertical Correlation Coefficient: {mean_vertical_correlation}\")\n"
      ],
      "metadata": {
        "id": "ouG0HssewO3U",
        "colab": {
          "base_uri": "https://localhost:8080/"
        },
        "outputId": "ab719fba-dd45-4c48-e035-2c44c59ce01f"
      },
      "execution_count": null,
      "outputs": [
        {
          "output_type": "stream",
          "name": "stdout",
          "text": [
            "Mean Vertical Correlation Coefficient: 0.0018037267329065025\n"
          ]
        }
      ]
    },
    {
      "cell_type": "code",
      "source": [
        "import cv2\n",
        "import numpy as np\n",
        "\n",
        "def calculate_horizontal_correlation(plaintext_image, cipher_image):\n",
        "    # Ensure both images have the same dimensions\n",
        "    if plaintext_image.shape != cipher_image.shape:\n",
        "        raise ValueError(\"Plaintext and cipher images must have the same dimensions.\")\n",
        "\n",
        "    # Calculate the row-wise variance for plaintext and cipher images for each color channel\n",
        "    variances_plaintext = [np.var(plaintext_image[:, :, i], axis=1) for i in range(plaintext_image.shape[2])]\n",
        "    variances_cipher = [np.var(cipher_image[:, :, i], axis=1) for i in range(cipher_image.shape[2])]\n",
        "\n",
        "    # Compute the means of the entire images for each color channel\n",
        "    means_plaintext = [np.mean(plaintext_image[:, :, i], axis=1) for i in range(plaintext_image.shape[2])]\n",
        "    means_cipher = [np.mean(cipher_image[:, :, i], axis=1) for i in range(cipher_image.shape[2])]\n",
        "\n",
        "    # Calculate the horizontal covariance and correlation for each color channel\n",
        "    correlations = []\n",
        "    for i in range(plaintext_image.shape[2]):\n",
        "        # Calculate the horizontal covariance\n",
        "        covariance = np.sum((plaintext_image[:, :, i] - means_plaintext[i][:, np.newaxis]) * (cipher_image[:, :, i] - means_cipher[i][:, np.newaxis]), axis=1) / (plaintext_image.shape[1] - 1)\n",
        "        # Calculate the horizontal correlation\n",
        "        correlation = covariance / (variances_plaintext[i] * variances_cipher[i])\n",
        "        correlations.append(correlation)\n",
        "\n",
        "    # Calculate the mean of the correlations across all color channels\n",
        "    mean_correlation = np.mean(correlations)\n",
        "\n",
        "    return mean_correlation\n",
        "\n",
        "if __name__ == \"__main__\":\n",
        "    # Load plaintext and cipher images using OpenCV\n",
        "    plaintext_image = cv2.imread('/content/bwimages.jpg')\n",
        "    cipher_image = cv2.imread('/content/4_final_encrypted_img.png')\n",
        "\n",
        "    # Calculate the mean of the horizontal correlation coefficients for all color channels\n",
        "    mean_horizontal_correlation = calculate_horizontal_correlation(plaintext_image, cipher_image)\n",
        "\n",
        "    # Print the mean horizontal correlation coefficient\n",
        "    print(f\"Mean Horizontal Correlation Coefficient: {mean_horizontal_correlation}\")\n"
      ],
      "metadata": {
        "id": "UDM7CIbrxKyG",
        "colab": {
          "base_uri": "https://localhost:8080/"
        },
        "outputId": "654696eb-a6ef-45d7-dca5-125a42e5e261"
      },
      "execution_count": null,
      "outputs": [
        {
          "output_type": "stream",
          "name": "stdout",
          "text": [
            "Mean Horizontal Correlation Coefficient: -1.0683725921207294e-07\n"
          ]
        }
      ]
    },
    {
      "cell_type": "code",
      "execution_count": null,
      "metadata": {
        "id": "BTadnO0Kp8yQ",
        "colab": {
          "base_uri": "https://localhost:8080/"
        },
        "outputId": "768c8a7c-c5e3-418d-d54a-6fd56641ee37"
      },
      "outputs": [
        {
          "output_type": "stream",
          "name": "stdout",
          "text": [
            "Mean Diagonal Correlation Coefficient: -0.013403802742225959\n"
          ]
        }
      ],
      "source": [
        "import cv2\n",
        "import numpy as np\n",
        "\n",
        "def calculate_diagonal_correlation(plaintext_image, cipher_image):\n",
        "    # Ensure both images have the same dimensions\n",
        "    if plaintext_image.shape != cipher_image.shape:\n",
        "        raise ValueError(\"Plaintext and cipher images must have the same dimensions.\")\n",
        "\n",
        "    correlations = []\n",
        "\n",
        "    for i in range(plaintext_image.shape[2]):\n",
        "        # Create diagonal versions of the plaintext and cipher images for each color channel\n",
        "        diagonal_plaintext = np.diagonal(plaintext_image[:, :, i])\n",
        "        diagonal_cipher = np.diagonal(cipher_image[:, :, i])\n",
        "\n",
        "        # Calculate the variance and mean of the diagonal images\n",
        "        variance_plaintext = np.var(diagonal_plaintext)\n",
        "        variance_cipher = np.var(diagonal_cipher)\n",
        "        mean_plaintext = np.mean(diagonal_plaintext)\n",
        "        mean_cipher = np.mean(diagonal_cipher)\n",
        "\n",
        "        # Calculate the diagonal covariance\n",
        "        covariance = np.sum((diagonal_plaintext - mean_plaintext) * (diagonal_cipher - mean_cipher))\n",
        "        covariance /= diagonal_plaintext.size\n",
        "\n",
        "        # Calculate the diagonal correlation coefficient\n",
        "        correlation = covariance / np.sqrt(variance_plaintext * variance_cipher)\n",
        "        correlations.append(correlation)\n",
        "\n",
        "    # Calculate the mean of the diagonal correlation coefficients across all color channels\n",
        "    mean_diagonal_correlation = np.mean(correlations)\n",
        "\n",
        "    return mean_diagonal_correlation\n",
        "\n",
        "if __name__ == \"__main__\":\n",
        "    # Load plaintext and cipher images using OpenCV\n",
        "    plaintext_image = cv2.imread('/content/bwimages.jpg')\n",
        "    cipher_image = cv2.imread('/content/4_final_encrypted_img.png')\n",
        "\n",
        "    # Calculate the mean diagonal correlation coefficient for color images\n",
        "    mean_diagonal_correlation = calculate_diagonal_correlation(plaintext_image, cipher_image)\n",
        "\n",
        "    # Print the mean diagonal correlation coefficient\n",
        "    print(f\"Mean Diagonal Correlation Coefficient: {mean_diagonal_correlation}\")\n"
      ]
    },
    {
      "cell_type": "code",
      "execution_count": null,
      "metadata": {
        "colab": {
          "base_uri": "https://localhost:8080/",
          "height": 363
        },
        "id": "Gp3Oc0_6xG8j",
        "outputId": "86fbe6e3-052c-46eb-e93c-05f552760b86"
      },
      "outputs": [
        {
          "output_type": "display_data",
          "data": {
            "text/plain": [
              "<Figure size 1500x500 with 2 Axes>"
            ],
            "image/png": "[encoded data removed]"
          },
          "metadata": {}
        }
      ],
      "source": [
        "import cv2\n",
        "import matplotlib.pyplot as plt\n",
        "\n",
        "\n",
        "def plot_color_histogram(image, title, color):\n",
        "    # Split the color image into its Red, Green, and Blue channels\n",
        "    b, g, r = cv2.split(image)\n",
        "\n",
        "    # Calculate histograms for each channel\n",
        "    hist_b = cv2.calcHist([b], [0], None, [256], [0, 256])\n",
        "    hist_g = cv2.calcHist([g], [0], None, [256], [0, 256])\n",
        "    hist_r = cv2.calcHist([r], [0], None, [256], [0, 256])\n",
        "\n",
        "    # Plot the histograms for each channel\n",
        "    plt.plot(hist_b, color='blue', label='Blue')\n",
        "    plt.plot(hist_g, color='green', label='Green')\n",
        "    plt.plot(hist_r, color='red', label='Red')\n",
        "    plt.title(title)\n",
        "    plt.xlabel(\"Grayscale Levels\")\n",
        "    plt.ylabel(\"Frequency\")\n",
        "    plt.legend()\n",
        "\n",
        "    # Set the y-ticks to multiples of 10000\n",
        "    plt.yticks([500 * i for i in range(1, 6)])\n",
        "\n",
        "def plot_color_histogram1(image, title, color):\n",
        "    # Split the color image into its Red, Green, and Blue channels\n",
        "    b, g, r = cv2.split(image)\n",
        "\n",
        "    # Calculate histograms for each channel\n",
        "    hist_b = cv2.calcHist([b], [0], None, [256], [0, 256])\n",
        "    hist_g = cv2.calcHist([g], [0], None, [256], [0, 256])\n",
        "    hist_r = cv2.calcHist([r], [0], None, [256], [0, 256])\n",
        "\n",
        "    # Plot the histograms for each channel\n",
        "    plt.plot(hist_b, color='blue', label='Blue')\n",
        "    plt.plot(hist_g, color='green', label='Green')\n",
        "    plt.plot(hist_r, color='red', label='Red')\n",
        "    plt.title(title)\n",
        "    plt.xlabel(\"Grayscale Levels\")\n",
        "    plt.ylabel(\"Frequency\")\n",
        "    plt.legend()\n",
        "\n",
        "    # Set the y-ticks to multiples of 10000\n",
        "    plt.yticks([1000 * i for i in range(1, 6)])\n",
        "\n",
        "if __name__ == \"__main__\":\n",
        "    # Load the color plaintext and cipher images\n",
        "    plaintext_image = cv2.imread(\"/content/bwimages.jpg\")\n",
        "    cipher_image = cv2.imread(\"/content/4_final_encrypted_img.png\")\n",
        "\n",
        "    # Create subplots for the color histograms\n",
        "    plt.figure(figsize=(15, 5))\n",
        "\n",
        "    plt.subplot(121)\n",
        "    plot_color_histogram(plaintext_image, \"Plaintext Image Histogram\", color=\"blue\")\n",
        "\n",
        "    plt.subplot(122)\n",
        "    plot_color_histogram1(cipher_image, \"Cipher Image Histogram\", color=\"red\")\n",
        "\n",
        "    plt.tight_layout()\n",
        "    plt.show()\n"
      ]
    },
    {
      "cell_type": "code",
      "execution_count": null,
      "metadata": {
        "colab": {
          "base_uri": "https://localhost:8080/"
        },
        "id": "Z065O1L9ziDp",
        "outputId": "1690c357-268f-477c-8812-30684ba87642"
      },
      "outputs": [
        {
          "output_type": "stream",
          "name": "stdout",
          "text": [
            "Entropy of the color image: 7.999043797261791\n"
          ]
        }
      ],
      "source": [
        "import cv2\n",
        "import numpy as np\n",
        "\n",
        "def calculate_entropy(image):\n",
        "    # Calculate the entropy for each color channel (Red, Green, Blue)\n",
        "    entropy_channels = []\n",
        "    for channel in cv2.split(image):\n",
        "        hist = cv2.calcHist([channel], [0], None, [256], [0, 256])\n",
        "        hist = hist.flatten() / (image.shape[0] * image.shape[1])  # Normalize the histogram to probabilities\n",
        "        non_zero_probs = hist[hist > 0]\n",
        "        entropy = -np.sum(non_zero_probs * np.log2(non_zero_probs))\n",
        "        entropy_channels.append(entropy)\n",
        "\n",
        "    # Calculate the overall entropy as the average of the channel entropies\n",
        "    overall_entropy = sum(entropy_channels) / 3\n",
        "\n",
        "    return overall_entropy\n",
        "\n",
        "if __name__ == \"__main__\":\n",
        "    # Load the color image for which you want to calculate entropy\n",
        "    color_image = cv2.imread(\"/content/4_final_encrypted_img.png\")\n",
        "\n",
        "    # Calculate the entropy of the color image\n",
        "    entropy = calculate_entropy(color_image)\n",
        "\n",
        "    # Print the entropy value\n",
        "    print(f\"Entropy of the color image: {entropy}\")\n"
      ]
    }
  ],
  "metadata": {
    "colab": {
      "provenance": []
    },
    "kernelspec": {
      "display_name": "Python 3",
      "name": "python3"
    },
    "language_info": {
      "name": "python"
    }
  },
  "nbformat": 4,
  "nbformat_minor": 0
}